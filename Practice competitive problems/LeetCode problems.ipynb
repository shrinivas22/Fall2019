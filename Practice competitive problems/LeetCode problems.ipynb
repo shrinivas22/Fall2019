{
 "cells": [
  {
   "cell_type": "code",
   "execution_count": 13,
   "metadata": {},
   "outputs": [
    {
     "name": "stdout",
     "output_type": "stream",
     "text": [
      "True\n"
     ]
    }
   ],
   "source": [
    "import math \n",
    "\n",
    "log2 = math.log2(1)\n",
    "\n",
    "if log2 == int(log2):\n",
    "    print(True)\n",
    "else:\n",
    "    print(False)\n"
   ]
  },
  {
   "cell_type": "code",
   "execution_count": 21,
   "metadata": {},
   "outputs": [
    {
     "name": "stdout",
     "output_type": "stream",
     "text": [
      "{1, 5, 6, 9} True True\n"
     ]
    },
    {
     "data": {
      "text/plain": [
       "6"
      ]
     },
     "execution_count": 21,
     "metadata": {},
     "output_type": "execute_result"
    }
   ],
   "source": [
    "import random\n",
    "class RandomizedSet:\n",
    "\n",
    "    def __init__(self):\n",
    "        \"\"\"\n",
    "        Initialize your data structure here.\n",
    "        \"\"\"\n",
    "        self.set=set()\n",
    "\n",
    "    def insert(self, val: int) -> bool:\n",
    "        \"\"\"\n",
    "        Inserts a value to the set. Returns true if the set did not already contain the specified element.\n",
    "        \"\"\"\n",
    "       \n",
    "        if (val in self.set):\n",
    "            return False\n",
    "        else:\n",
    "            self.set.add(val)\n",
    "            return True\n",
    "        \n",
    "\n",
    "    def remove(self, val: int) -> bool:\n",
    "        \"\"\"\n",
    "        Removes a value from the set. Returns true if the set contained the specified element.\n",
    "        \"\"\"\n",
    "        try :\n",
    "            self.set.remove(val)\n",
    "            return True\n",
    "        except:\n",
    "            return False\n",
    "        \n",
    "        \n",
    "\n",
    "    def getRandom(self) :\n",
    "        \"\"\"\n",
    "        Get a random element from the set.\n",
    "        \"\"\"\n",
    "        index = random.randrange(0, len(self.set))\n",
    "        tempList=list(self.set)\n",
    "        return tempList[index]\n",
    "    \n",
    "    def show(self):\n",
    "        \n",
    "        return self.set\n",
    "        \n",
    "        \n",
    "\n",
    "\n",
    "# Your RandomizedSet object will be instantiated and called as such:\n",
    "obj = RandomizedSet()\n",
    "param_1 = obj.insert(5)\n",
    "obj.insert(1)\n",
    "obj.insert(9)\n",
    "obj.insert(5)\n",
    "obj.insert(4)\n",
    "param_11 = obj.insert(6)\n",
    "param_2 = obj.remove(4)\n",
    "\n",
    "print(obj.show(),param_11,param_2)\n",
    "param_3 = obj.getRandom()\n",
    "param_3"
   ]
  },
  {
   "cell_type": "code",
   "execution_count": null,
   "metadata": {},
   "outputs": [],
   "source": [
    "#Invert binary tree\n",
    "\n",
    "#Definition for a binary tree node.\n",
    "class TreeNode:\n",
    "    def __init__(self, val=0, left=None, right=None):\n",
    "        self.val = val\n",
    "        self.left = left\n",
    "        self.right = right\n",
    "        \n",
    "class Solution:\n",
    "    def invertTree(self, root: TreeNode) -> TreeNode:\n",
    "        if self.val:\n",
    "            if val > self.val:\n",
    "                if self.left is None:\n",
    "                    self.left = TreeNode(val)\n",
    "                else:\n",
    "                    self.left.insert(val)\n",
    "            elif val < self.val:\n",
    "                if self.right is None:\n",
    "                    self.right = TreeNode(val)\n",
    "                else:\n",
    "                    self.right.insert(val)\n",
    "        else:\n",
    "            self.data = data\n",
    "\n",
    "input_array=[4,2,7,1,3,6,9]\n",
    "Root=TreeNode(4,2,7)\n",
    "\n",
    "\n",
    "for i in range(len(input_array)):\n",
    "    \n",
    "   "
   ]
  },
  {
   "cell_type": "code",
   "execution_count": 30,
   "metadata": {},
   "outputs": [
    {
     "name": "stdout",
     "output_type": "stream",
     "text": [
      "[2, 1]\n"
     ]
    }
   ],
   "source": [
    "#Array rotate\n",
    "\n",
    "def swap(self,i,j,nums):\n",
    "        temp=nums[i]\n",
    "        nums[i]=nums[j]\n",
    "        nums[j]=temp\n",
    "    \n",
    "    def reversed(self,nums):\n",
    "        j = len(nums)-1\n",
    "        i=0\n",
    "        print((len(nums)/2) + 1)\n",
    "        while i < j:\n",
    "            Solution().swap(i,j,nums)\n",
    "            i+=1\n",
    "            j-=1\n",
    "            \n",
    "        \n",
    "    \n",
    "        \n",
    "    def rotate(self, nums: List[int], k: int) -> None:\n",
    "        \"\"\"\n",
    "        Do not return anything, modify nums in-place instead.\n",
    "        \"\"\"\n",
    "        if k > len(nums):\n",
    "            if k-len(nums)==0:\n",
    "                Solution().reversed(nums)\n",
    "            else:\n",
    "                k=k-len(nums)\n",
    "                j=len(nums) -k\n",
    "                i=j-1\n",
    "                swaps=k\n",
    "                counter=1\n",
    "\n",
    "                while(k<len(nums)):\n",
    "\n",
    "                    while counter < swaps+1:\n",
    "                        if (i<len(nums) and j<len(nums)):\n",
    "                            Solution().swap(i,j,nums)\n",
    "                        counter+=1\n",
    "                        i+=1\n",
    "                        j+=1\n",
    "                    k+=1\n",
    "                    j=len(nums) - k\n",
    "                    i=j-1\n",
    "                    counter=1\n",
    "            \n",
    "        else:\n",
    "                j=len(nums) -k\n",
    "                i=j-1\n",
    "                swaps=k\n",
    "                counter=1\n",
    "\n",
    "                while(k<len(nums)):\n",
    "\n",
    "                    while counter < swaps+1:\n",
    "                        if (i<len(nums) and j<len(nums)):\n",
    "                            Solution().swap(i,j,nums)\n",
    "                        counter+=1\n",
    "                        i+=1\n",
    "                        j+=1\n",
    "                    k+=1\n",
    "                    j=len(nums) - k\n",
    "                    i=j-1\n",
    "                    counter=1\n"
   ]
  },
  {
   "cell_type": "code",
   "execution_count": null,
   "metadata": {},
   "outputs": [],
   "source": [
    "# intersection of 2 arrays\n",
    "\n",
    "class Solution:\n",
    "    \n",
    "    def isa(self,small, big):\n",
    "        sMap={}\n",
    "        for i in range(len(small)):\n",
    "            if small[i] in sMap:\n",
    "                sMap[small[i]]+=1\n",
    "            else:\n",
    "                sMap[small[i]]=1\n",
    "        \n",
    "        print(sMap)\n",
    "        out=[]\n",
    "        count=0\n",
    "        for i in range(len(big)):\n",
    "            if big[i] in sMap and sMap[big[i]]!=0:\n",
    "                sMap[big[i]]-=1\n",
    "                out.append(big[i])\n",
    "                print(\"out\",out[count])\n",
    "                count+=1\n",
    "        print(out)\n",
    "        return out\n",
    "                \n",
    "                \n",
    "            \n",
    "            \n",
    "        \n",
    "    \n",
    "    def intersect(self, nums1: List[int], nums2: List[int]) -> List[int]:\n",
    "       \n",
    "        if(len(nums1)>len(nums2)):\n",
    "            return Solution().isa(nums2,nums1)\n",
    "        else:\n",
    "            return Solution().isa(nums1,nums2)"
   ]
  },
  {
   "cell_type": "code",
   "execution_count": 18,
   "metadata": {},
   "outputs": [
    {
     "ename": "SyntaxError",
     "evalue": "invalid syntax (<ipython-input-18-214bdbf83c94>, line 4)",
     "output_type": "error",
     "traceback": [
      "\u001b[1;36m  File \u001b[1;32m\"<ipython-input-18-214bdbf83c94>\"\u001b[1;36m, line \u001b[1;32m4\u001b[0m\n\u001b[1;33m    inp.sort(key=lambda x: if(x>inp[0]): x,reverse=True)\u001b[0m\n\u001b[1;37m                            ^\u001b[0m\n\u001b[1;31mSyntaxError\u001b[0m\u001b[1;31m:\u001b[0m invalid syntax\n"
     ]
    }
   ],
   "source": [
    "\n",
    "\n",
    "inp=[1,2,3]\n",
    "inp.sort(key=lambda x: if(x>inp[0]): x,reverse=True)\n",
    "print(a)\n"
   ]
  },
  {
   "cell_type": "code",
   "execution_count": null,
   "metadata": {},
   "outputs": [],
   "source": [
    "#preorder traversal\n",
    "\n",
    "class Solution:\n",
    "    def preorderTraversal(self, root: TreeNode) -> List[int]:\n",
    "        myStack=[]\n",
    "        output=[]\n",
    "        if root== None:\n",
    "            return\n",
    "        myStack.append(root)\n",
    "        while myStack:\n",
    "            root=myStack.pop()\n",
    "            output.append(root.val)\n",
    "            \n",
    "            if(root.right!=None):\n",
    "                myStack.append(root.right)\n",
    "            if root.left!=None:\n",
    "                myStack.append(root.left)\n",
    "                \n",
    "        return output"
   ]
  },
  {
   "cell_type": "code",
   "execution_count": 40,
   "metadata": {},
   "outputs": [
    {
     "name": "stdout",
     "output_type": "stream",
     "text": [
      "10\n",
      ": 01\n",
      "1 0 1\n",
      "11 1 0\n",
      "False\n"
     ]
    }
   ],
   "source": [
    "a= 1\n",
    "b=2\n",
    "def decimalToBinary(n):  \n",
    "    return bin(n).replace(\"0b\", \"\")\n",
    "\n",
    "a1=decimalToBinary(1)\n",
    "b1=decimalToBinary(2)\n",
    "print(b1)\n",
    "answer=\"\"\n",
    "diff=0\n",
    "counter1=0\n",
    "counter2=0\n",
    "if len(a1)==len(b1):\n",
    "    for i in range(len(a1)):\n",
    "        answer+=str(int((not int(a1[counter1]) and  int(b1[counter1])) or (int(a1[counter1]) and not int(b1[counter1]))))\n",
    "        counter1+=1\n",
    "    print(answer)\n",
    "else:\n",
    "    if len(a1)>len(b1):\n",
    "        diff=len(a1)-len(b1)\n",
    "        appender='0'*diff\n",
    "        b1=appender+b1\n",
    "        for i in range(len(a1)):\n",
    "           \n",
    "            answer+=str(int((not int(a1[counter1]) and  int(b1[counter1])) or (int(a1[counter1]) and not int(b1[counter1]))))\n",
    "            counter1+=1\n",
    "        print(answer)\n",
    "    else:\n",
    "        diff=len(b1)-len(a1)\n",
    "        appender='0'*diff\n",
    "        a1=appender+a1\n",
    "        print(\":\",a1)\n",
    "        for i in range(len(a1)):\n",
    "            \n",
    "            answer+=str(int((not int(a1[counter1]) and  int(b1[counter1])) or (int(a1[counter1]) and not int(b1[counter1]))))\n",
    "            print(answer, a1[counter1] ,b1[counter1])\n",
    "            counter1+=1\n",
    "        \n",
    "       \"\"\" class Solution:\n",
    "    def hammingDistance(self, x: int, y: int) -> int:\n",
    "        return bin(x ^ y).count('1') \"\"\"     \n",
    "\n",
    "answer\n",
    "t=0\n",
    "f=1\n",
    "print(not f)"
   ]
  },
  {
   "cell_type": "code",
   "execution_count": 56,
   "metadata": {},
   "outputs": [
    {
     "name": "stdout",
     "output_type": "stream",
     "text": [
      "8\n",
      "[10, 0, 0, 0]\n",
      "None\n"
     ]
    }
   ],
   "source": [
    "#plusOne\n",
    "from typing import List\n",
    "\n",
    "def plusOne(digits: List[int], i) -> List[int]:\n",
    "    \n",
    "    if digits[0] == 9:\n",
    "        i=i+1\n",
    "    if i==0:\n",
    "        if digits[i]==9:\n",
    "            digits[i]=10\n",
    "        else:\n",
    "            digit[i]+=1\n",
    "            \n",
    "        print(digits)\n",
    "        return digits\n",
    "   \n",
    "    \n",
    "        \n",
    "    # last digit is 9\n",
    "    if i == len(inp)-1 and digits[i]==9:\n",
    "        digits[i]=0\n",
    "        plusOne(digits,i-1)\n",
    "    elif digits[i]==9:\n",
    "        digits[i]=0\n",
    "        plusOne(digits,i-1)\n",
    "    else:\n",
    "        digits[i]+=1\n",
    "        return digits\n",
    "    \n",
    "        \n",
    "\n",
    "        \n",
    "inp: List[int]=[9,9,9,9]\n",
    "aa= 10^2\n",
    "print(aa)\n",
    "print(plusOne(inp, len(inp)-1))\n",
    "    \n",
    "    \n",
    "    \n",
    "\n",
    "    \n"
   ]
  },
  {
   "cell_type": "code",
   "execution_count": null,
   "metadata": {},
   "outputs": [],
   "source": [
    "# Code for min size sub array which is equal or greater than a given sum\n",
    "\n",
    "def minSubArrayLen(self, s: int, nums: List[int]) -> int:\n",
    "        \n",
    "        ans= 999999\n",
    "        n = len(nums)\n",
    "        sums=0\n",
    "        start=0\n",
    "        for i in range(n):\n",
    "            sums+=nums[i]\n",
    "            \n",
    "            while sums >= s:\n",
    "                ans= min(ans, i-start)\n",
    "                start+=1\n",
    "                sums-=nums[start]\n",
    "        return ans"
   ]
  },
  {
   "cell_type": "code",
   "execution_count": 11,
   "metadata": {},
   "outputs": [
    {
     "name": "stdout",
     "output_type": "stream",
     "text": [
      "before: 0\n",
      "before: {}\n",
      "before: 1\n",
      "before: {}\n",
      "2 1\n",
      "{1: 2}\n",
      "3 0\n",
      "{1: 2, 0: 3}\n"
     ]
    },
    {
     "data": {
      "text/plain": [
       "3"
      ]
     },
     "execution_count": 11,
     "metadata": {},
     "output_type": "execute_result"
    }
   ],
   "source": [
    "# Decode Ways\n",
    "\n",
    "class Solution:\n",
    "    def __init__(self):\n",
    "        self.memo = {}\n",
    "\n",
    "    def recursive_with_memo(self, index, s) -> int:\n",
    "        # If you reach the end of the string\n",
    "        # Return 1 for success.\n",
    "        if index == len(s):\n",
    "            return 1\n",
    "\n",
    "        # If the string starts with a zero, it can't be decoded\n",
    "        if s[index] == '0':\n",
    "            return 0\n",
    "\n",
    "        if index == len(s)-1:\n",
    "            return 1\n",
    "\n",
    "        # Memoization is needed since we might encounter the same sub-string.\n",
    "        if index in self.memo:\n",
    "            return self.memo[index]\n",
    "\n",
    "        print(\"before:\",index)\n",
    "        print(\"before:\",sol.memo)\n",
    "        \n",
    "        ans = self.recursive_with_memo(index+1, s) + (self.recursive_with_memo(index+2, s) if (int(s[index : index+2]) <= 26) else 0)\n",
    "\n",
    "        # Save for memoization\n",
    "        self.memo[index] = ans\n",
    "        print(ans, index)\n",
    "        print(sol.memo)\n",
    "        return ans\n",
    "\n",
    "\n",
    "    def numDecodings(self, s: str) -> int:\n",
    "        if not s:\n",
    "            return 0\n",
    "        return self.recursive_with_memo(0, s)    \n",
    "\n",
    "sol= Solution()\n",
    "sol.numDecodings('112')"
   ]
  },
  {
   "cell_type": "code",
   "execution_count": 7,
   "metadata": {},
   "outputs": [
    {
     "name": "stdout",
     "output_type": "stream",
     "text": [
      "False\n"
     ]
    }
   ],
   "source": [
    "a={1:2,2:4,3:6}"
   ]
  },
  {
   "cell_type": "code",
   "execution_count": null,
   "metadata": {},
   "outputs": [],
   "source": [
    "before=[[2,3],[5,7]]\n",
    "after= [[2,5],[7,17]]\n",
    "\n",
    "dp=\n",
    "temp=\n",
    "\n",
    "for i in range(len(after)):\n",
    "    for j in range(len(after[0])):\n",
    "        "
   ]
  },
  {
   "cell_type": "code",
   "execution_count": 11,
   "metadata": {},
   "outputs": [
    {
     "data": {
      "text/plain": [
       "False"
      ]
     },
     "execution_count": 11,
     "metadata": {},
     "output_type": "execute_result"
    }
   ],
   "source": [
    "\"\"\"_________ 00001010 > 00000111  T\n",
    "_________ 11111111 > 01111111   T\n",
    "_________ (11111111 + 11111111) > 00000001 - 00000010  T\n",
    "_________ (00000100 * 00000100) == 00010000 T\n",
    "_________ (11111010 * 00000011) == 11101110  F\n",
    "_________ (00000100 / 00000100) == 11100000  f\n",
    "_________ (11110000 - 00000001) == 10001111  F\n",
    "\"\"\"\n",
    "\n",
    "def binaryToDecimal(n): \n",
    "    return int(n,2) \n",
    "\n",
    "(binaryToDecimal(\"11111010\")* binaryToDecimal(\"00000011\"))== (binaryToDecimal(\"11101110\"))"
   ]
  },
  {
   "cell_type": "code",
   "execution_count": 9,
   "metadata": {},
   "outputs": [
    {
     "name": "stdout",
     "output_type": "stream",
     "text": [
      "{'illuminated': ['lit'], 'devilishly': ['evil'], 'devilish': ['evil'], 'animosity': ['animity', 'like'], 'treeworld': ['erw']}\n",
      "lit--\n",
      "subset: lit\n",
      "evil--\n",
      "subset: evil\n",
      "devilishly:special\n",
      "deviishy\n",
      "evil--\n",
      "subset: evil\n",
      "devilish:special\n",
      "deviish\n",
      "animity--\n",
      "subset: animity\n",
      "like--\n",
      "erw--\n",
      "subset: erw\n"
     ]
    },
    {
     "data": {
      "text/plain": [
       "4"
      ]
     },
     "execution_count": 9,
     "metadata": {},
     "output_type": "execute_result"
    }
   ],
   "source": [
    "#kangaroo Words\n",
    "\n",
    "def isSubsequence(st1,st2):\n",
    "    m = len(st1)\n",
    "    n = len(st2)\n",
    "    i=0\n",
    "    \n",
    "    \n",
    "    while j<m and i<n:\n",
    "        if st1[j] == st2[i]:\n",
    "            j+=1\n",
    "        i+=1\n",
    "    \n",
    "    \n",
    "\n",
    "w= [\"illuminated\",\"devilishly\",\"devilish\",\"animosity\",\"treeworld\"]\n",
    "wS=[[\"lit\"],[\"evil\"],[\"evil\"], [\"animity\",\"like\"], [\"erw\"]]\n",
    "\n",
    "ws={}\n",
    "ctr=0\n",
    "for i in w:\n",
    "    wordList=[]\n",
    "    for j in wS[ctr]:\n",
    "        wordList.append(j)\n",
    "        ws[i]= wordList\n",
    "    ctr+=1\n",
    "print(ws)\n",
    "ct=0\n",
    "for i in ws:\n",
    "    for j in ws[i]:\n",
    "        print(j+\"--\")\n",
    "        if set(j).issubset(i):\n",
    "            print(\"subset:\",j)\n",
    "            if j in i:\n",
    "                print(i+\":special\")\n",
    "                #special\n",
    "                if i.find(j) < i.find(j[len(j)-1]):\n",
    "                    \n",
    "                    temp=i.replace(j[len(j)-1],\"\")\n",
    "                    print(temp)\n",
    "                    if len(i)-len(temp)>1:\n",
    "                        ct+=1      \n",
    "            else:\n",
    "                ct+=1\n",
    "ct"
   ]
  },
  {
   "cell_type": "code",
   "execution_count": 23,
   "metadata": {},
   "outputs": [
    {
     "name": "stdout",
     "output_type": "stream",
     "text": [
      "0b1\n",
      "0b10\n",
      "0b11\n",
      "0b100\n",
      "0b101\n",
      "0b110\n",
      "0b111\n",
      "0b1000\n"
     ]
    },
    {
     "data": {
      "text/plain": [
       "13"
      ]
     },
     "execution_count": 23,
     "metadata": {},
     "output_type": "execute_result"
    }
   ],
   "source": [
    "def setBitsCount(n):\n",
    "    ct=0\n",
    "    for i in range(1, n+1):\n",
    "        \n",
    "        temp=bin(i)\n",
    "        print(temp)\n",
    "        for i in temp[2:]:\n",
    "            if(i=='1'):\n",
    "                ct+=1\n",
    "    return ct\n",
    "            \n",
    "        \n",
    "setBitsCount(8)"
   ]
  },
  {
   "cell_type": "code",
   "execution_count": 25,
   "metadata": {},
   "outputs": [],
   "source": [
    "def calcResult(a, b, c, signs):\n",
    "    result = []\n",
    "    for i in range(len(a)):\n",
    "        res = 0\n",
    "        if(signs[i]=='-'):\n",
    "            res = a[i]-b[i]\n",
    "        elif signs[i]=='+':\n",
    "            res = a[i]+b[i]\n",
    "        if res == c[i]:\n",
    "            result.append(true)\n",
    "        else:\n",
    "            result.append(false)\n",
    "    return result"
   ]
  },
  {
   "cell_type": "code",
   "execution_count": 43,
   "metadata": {},
   "outputs": [
    {
     "ename": "TypeError",
     "evalue": "list indices must be integers or slices, not tuple",
     "output_type": "error",
     "traceback": [
      "\u001b[1;31m---------------------------------------------------------------------------\u001b[0m",
      "\u001b[1;31mTypeError\u001b[0m                                 Traceback (most recent call last)",
      "\u001b[1;32m<ipython-input-43-086a563eab11>\u001b[0m in \u001b[0;36m<module>\u001b[1;34m()\u001b[0m\n\u001b[0;32m     31\u001b[0m \u001b[1;33m\u001b[0m\u001b[0m\n\u001b[0;32m     32\u001b[0m \u001b[1;33m\u001b[0m\u001b[0m\n\u001b[1;32m---> 33\u001b[1;33m \u001b[0msortResult\u001b[0m\u001b[1;33m(\u001b[0m\u001b[1;33m[\u001b[0m\u001b[1;33m[\u001b[0m\u001b[1;36m1\u001b[0m\u001b[1;33m,\u001b[0m \u001b[1;36m4\u001b[0m\u001b[1;33m,\u001b[0m \u001b[1;33m-\u001b[0m\u001b[1;36m2\u001b[0m\u001b[1;33m]\u001b[0m\u001b[1;33m,\u001b[0m \u001b[1;33m[\u001b[0m\u001b[1;33m-\u001b[0m\u001b[1;36m2\u001b[0m\u001b[1;33m,\u001b[0m\u001b[1;36m3\u001b[0m\u001b[1;33m,\u001b[0m \u001b[1;36m4\u001b[0m\u001b[1;33m]\u001b[0m\u001b[1;33m,\u001b[0m \u001b[1;33m[\u001b[0m\u001b[1;36m3\u001b[0m\u001b[1;33m,\u001b[0m \u001b[1;36m1\u001b[0m\u001b[1;33m,\u001b[0m \u001b[1;36m3\u001b[0m\u001b[1;33m]\u001b[0m\u001b[1;33m]\u001b[0m\u001b[1;33m)\u001b[0m\u001b[1;33m\u001b[0m\u001b[0m\n\u001b[0m\u001b[0;32m     34\u001b[0m \u001b[1;33m\u001b[0m\u001b[0m\n",
      "\u001b[1;32m<ipython-input-43-086a563eab11>\u001b[0m in \u001b[0;36msortResult\u001b[1;34m(a)\u001b[0m\n\u001b[0;32m     17\u001b[0m     \u001b[0mrow\u001b[0m\u001b[1;33m=\u001b[0m\u001b[0mcol\u001b[0m\u001b[1;33m=\u001b[0m\u001b[0mlen\u001b[0m\u001b[1;33m(\u001b[0m\u001b[0ma\u001b[0m\u001b[1;33m)\u001b[0m\u001b[1;33m-\u001b[0m\u001b[1;36m1\u001b[0m\u001b[1;33m\u001b[0m\u001b[0m\n\u001b[0;32m     18\u001b[0m     \u001b[1;32mfor\u001b[0m \u001b[0mi\u001b[0m \u001b[1;32min\u001b[0m \u001b[0maDic\u001b[0m\u001b[1;33m:\u001b[0m\u001b[1;33m\u001b[0m\u001b[0m\n\u001b[1;32m---> 19\u001b[1;33m         \u001b[1;32mwhile\u001b[0m\u001b[1;33m(\u001b[0m\u001b[0maDic\u001b[0m\u001b[1;33m[\u001b[0m\u001b[0mi\u001b[0m\u001b[1;33m]\u001b[0m\u001b[1;33m>\u001b[0m\u001b[1;36m0\u001b[0m\u001b[1;33m)\u001b[0m\u001b[1;33m:\u001b[0m\u001b[1;33m\u001b[0m\u001b[0m\n\u001b[0m\u001b[0;32m     20\u001b[0m             \u001b[0ma\u001b[0m\u001b[1;33m[\u001b[0m\u001b[0mrow\u001b[0m\u001b[1;33m]\u001b[0m\u001b[1;33m[\u001b[0m\u001b[0mcol\u001b[0m\u001b[1;33m]\u001b[0m\u001b[1;33m=\u001b[0m\u001b[0mi\u001b[0m\u001b[1;33m\u001b[0m\u001b[0m\n\u001b[0;32m     21\u001b[0m             \u001b[1;32mif\u001b[0m \u001b[0mrow\u001b[0m\u001b[1;33m==\u001b[0m\u001b[0mcol\u001b[0m\u001b[1;33m:\u001b[0m\u001b[1;33m\u001b[0m\u001b[0m\n",
      "\u001b[1;31mTypeError\u001b[0m: list indices must be integers or slices, not tuple"
     ]
    }
   ],
   "source": [
    "def sortResult(a):\n",
    "    aDic = {}\n",
    "    count=0\n",
    "    for i in range(len(a)):\n",
    "        for j in range(len(a[i])):\n",
    "            if a[i][j] not in aDic.keys():\n",
    "                aDic[a[i][j]] = 0\n",
    "            aDic[a[i][j]]=aDic[a[i][j]]+1\n",
    "    aDic = sorted(aDic.items(), key=lambda x: (x[1], x[0]))\n",
    "    \n",
    "   # b = [len(a)][len(a[i])]\n",
    "    \"\"\"for i in range(2,0)):\n",
    "        print(i)\n",
    "        for j in range(0,i+1):\n",
    "            k=i-j\n",
    "            print(\"k:\",k)\"\"\"\n",
    "  \n",
    "    row=col=len(a)-1\n",
    "    for i in aDic:\n",
    "        while(aDic[i]>0):\n",
    "            a[row][col]=i\n",
    "            if row==col:\n",
    "                col-=1\n",
    "            elif row>col:\n",
    "                row-=1\n",
    "            aDic[i]-=1\n",
    "            \n",
    "            \n",
    "            \n",
    "    \n",
    "        \n",
    "        \n",
    "\n",
    "sortResult([[1, 4, -2], [-2,3, 4], [3, 1, 3]])\n",
    "    "
   ]
  },
  {
   "cell_type": "code",
   "execution_count": null,
   "metadata": {},
   "outputs": [],
   "source": []
  }
 ],
 "metadata": {
  "kernelspec": {
   "display_name": "Python 3",
   "language": "python",
   "name": "python3"
  },
  "language_info": {
   "codemirror_mode": {
    "name": "ipython",
    "version": 3
   },
   "file_extension": ".py",
   "mimetype": "text/x-python",
   "name": "python",
   "nbconvert_exporter": "python",
   "pygments_lexer": "ipython3",
   "version": "3.6.5"
  }
 },
 "nbformat": 4,
 "nbformat_minor": 2
}
