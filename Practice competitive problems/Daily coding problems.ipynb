{
 "cells": [
  {
   "cell_type": "code",
   "execution_count": 5,
   "metadata": {
    "scrolled": true
   },
   "outputs": [
    {
     "name": "stdout",
     "output_type": "stream",
     "text": [
      "0:  1\n",
      "1:  -1\n",
      "0:  1\n",
      "1:  -1\n",
      "0:  1\n",
      "1:  -1\n",
      "0:  2\n",
      "1:  -1\n",
      "0:  1\n",
      "1:  -1\n",
      "[(0, 2), (30, 1), (40, 1), (50, -1), (60, 1), (70, -1), (75, -1), (150, -1), (500, -1)]\n",
      "Max Rooms Fast 4\n"
     ]
    }
   ],
   "source": [
    "# n-meeting rooms scheduling\n",
    "\n",
    "def find_nr_rooms_fast(intervals):\n",
    "    D = {}\n",
    "    for v in intervals:\n",
    "        D[v[0]] = D[v[0]]+1 if v[0] in D else 1 \n",
    "        D[v[1]] = D[v[1]]-1 if v[1] in D else -1 \n",
    "        print(\"0: \",D[v[0]])\n",
    "        print(\"1: \",D[v[1]])\n",
    "    sorted_events = sorted(D.items())# O(n.log(n))\n",
    "    print(sorted_events)\n",
    "    max_rooms = 0\n",
    "    rooms = 0\n",
    "    for k, v in sorted_events:\n",
    "        rooms += v\n",
    "        if rooms > max_rooms: max_rooms = rooms      \n",
    "    return max_rooms\n",
    "\n",
    "\n",
    "lectures = [(30, 75), (0, 50), (60, 150), (0, 500), (40, 70)]\n",
    "#print('Max Rooms', find_nr_rooms(lectures))       \n",
    "print('Max Rooms Fast', find_nr_rooms_fast(lectures))       \n"
   ]
  },
  {
   "cell_type": "code",
   "execution_count": null,
   "metadata": {},
   "outputs": [],
   "source": []
  },
  {
   "cell_type": "code",
   "execution_count": 3,
   "metadata": {},
   "outputs": [
    {
     "name": "stdout",
     "output_type": "stream",
     "text": [
      "5\n",
      "30\n",
      "75\n",
      "0\n",
      "50\n",
      "60\n",
      "6\n"
     ]
    }
   ],
   "source": [
    "import itertools\n",
    "\n",
    "def minimum_rooms(lectures):\n",
    "    input_data = [' '.join(str(j) for j in i) for i in lectures]\n",
    "    combinations = set()\n",
    "    rooms = 0\n",
    "    for c in itertools.combinations(input_data, 2):\n",
    "        a = set(range(*(int(n) for n in c[0].split())))\n",
    "        b = set(range(*(int(i) for i in c[1].split())))\n",
    "        if not a.intersection(b) == set():\n",
    "            rooms += 1\n",
    "    return rooms if rooms > 0 else 1\n",
    "\n",
    "\n",
    "if __name__ == \"__main__\":\n",
    "    # Read the number of lines to read\n",
    "    rows = int(input())\n",
    "    lectures = []\n",
    "    for i in range(rows):\n",
    "        lectures.append([int(n) for n in input().split()])\n",
    "    print(minimum_rooms(lectures))"
   ]
  },
  {
   "cell_type": "code",
   "execution_count": 24,
   "metadata": {},
   "outputs": [
    {
     "name": "stdout",
     "output_type": "stream",
     "text": [
      "{0: 4, 1: 2, 2: 0, 3: -3, 4: -3}\n",
      "True\n",
      "in: 4 0\n",
      "temp: e\n",
      "True\n",
      "in: 2 1\n",
      "temp: d\n",
      "False\n",
      "True\n",
      "in: -3 3\n",
      "temp: e\n",
      "True\n",
      "in: -3 4\n",
      "temp: d\n",
      "['b', 'a', 'c', 'e', 'd']\n"
     ]
    }
   ],
   "source": [
    "# permutation array reordering\n",
    "\n",
    "\"\"\"A permutation can be specified by an array P, where P[i] represents the location of the element at i in the permutation.\n",
    "For example, [2, 1, 0] represents the permutation where elements at the index 0 and 2 are swapped.\n",
    "\n",
    "Given an array and a permutation, apply the permutation to the array. \n",
    "For example, given the array [\"a\", \"b\", \"c\"] and the permutation [2, 1, 0], return [\"c\", \"b\", \"a\"].\"\"\"\n",
    "\n",
    "\n",
    "def permutations(inputarr, perm):\n",
    "    M={} # dictionary\n",
    "    for i in range(len(perm)):\n",
    "        distance=perm[i]-i # + means move to the right, - means move to the left\n",
    "        M[i]=distance\n",
    "    print(M)\n",
    "    for j in range(len(inputarr)):\n",
    "        print(M[j]!=0)\n",
    "        if M[j]!=0:\n",
    "            print(\"in:\", M[j],j)\n",
    "            temp= inputarr[j+M[j]]\n",
    "            print(\"temp:\",temp)\n",
    "            inputarr[j+M[j]]= inputarr[j]\n",
    "            inputarr[j]= temp\n",
    "            \n",
    "    return inputarr\n",
    "        \n",
    "        \n",
    "inputarr= ['a', 'b', 'c', 'd', 'e'] \n",
    "permutation= [4, 3, 2, 0, 1]\n",
    "\n",
    "print(permutations(inputarr, permutation))\n",
    "        \n",
    "        \n",
    "\n"
   ]
  },
  {
   "cell_type": "code",
   "execution_count": 12,
   "metadata": {},
   "outputs": [
    {
     "name": "stdout",
     "output_type": "stream",
     "text": [
      "while: 0 0\n",
      "A[i]: a\n",
      "while perm before: 4\n",
      "while perm: -1\n",
      "while: 4 0\n",
      "A[i]: e\n",
      "while perm before: 1\n",
      "while perm: -4\n",
      "while: 1 0\n",
      "A[i]: b\n",
      "while perm before: 3\n",
      "while perm: -2\n",
      "while: 3 0\n",
      "A[i]: d\n",
      "while perm before: 0\n",
      "while perm: -5\n",
      "while: 2 2\n",
      "A[i]: c\n",
      "while perm before: 2\n",
      "while perm: -3\n",
      "[-1, -2, -3, -5, -4]\n",
      "['d', 'e', 'c', 'b', 'a']\n"
     ]
    }
   ],
   "source": [
    "def apply_permutation (perm , A) :\n",
    "    for i in range(len(A)):\n",
    "        # Check if the element at index i has not been noved by checking if\n",
    "        # pern[i] is nonnegative.\n",
    "        next = i\n",
    "        while perm[next] >= 0:\n",
    "            print(\"while:\",next,i)\n",
    "            print(\"A[i]:\",A[i])\n",
    "\n",
    "            A[i], A[perm[next]] = A[perm[next]],A[i]\n",
    "            temp = perm[next]\n",
    "   \n",
    "            # Subtracts 7en(pern) fron an entry in pern to nake jt negative,\n",
    "            # which indicates the corresponding move has been performed.\n",
    "            print(\"while perm before:\",perm[next])\n",
    "            perm[next] -= len(perm)\n",
    "            print(\"while perm:\",perm[next])\n",
    "            next = temp\n",
    "\n",
    "    print(perm)\n",
    "        \n",
    "A= ['a', 'b', 'c', 'd', 'e'] \n",
    "P= [4, 3, 2, 0, 1]\n",
    "\n",
    "apply_permutation (P , A)\n",
    "print(A)\n"
   ]
  },
  {
   "cell_type": "code",
   "execution_count": 6,
   "metadata": {},
   "outputs": [
    {
     "name": "stdout",
     "output_type": "stream",
     "text": [
      "in while  4 a\n",
      "in while  4 a\n",
      "in while  4 a\n",
      "4 a\n",
      "in while  3 e\n",
      "in while  3 e\n",
      "2 c\n",
      "in while  0 b\n",
      "in while  1 a\n",
      "['d', 'e', 'c', 'b', 'a']\n"
     ]
    }
   ],
   "source": [
    "def apply_permutation(perm, A) :\n",
    "    def cyclic_permutation (start , perm , A) :\n",
    "        i, temp = start, A[start]\n",
    "        while True:\n",
    "            next_i = perm[i]\n",
    "            next_temp = A[next_i]\n",
    "            A[next_i] = temp\n",
    "            i, temp = next_i , next_temp,\n",
    "            if i == start:\n",
    "                break\n",
    "    for i in range(len(A)):\n",
    "        # Iraverses the cycTe to see if i is\n",
    "        j = perm[i]\n",
    "        while j != i:\n",
    "            print(\"in while \",perm[i],A[i])\n",
    "            if j < i:\n",
    "                break\n",
    "            j = perm[j]\n",
    "        else :\n",
    "            print(perm[i],A[i])\n",
    "            cyclic_permutation(i, perm, A)\n",
    "              \n",
    "A= ['a', 'b', 'c', 'd', 'e'] \n",
    "P= [4, 3, 2, 0, 1]\n",
    "\n",
    "apply_permutation (P , A)\n",
    "print(A)"
   ]
  },
  {
   "cell_type": "code",
   "execution_count": 24,
   "metadata": {},
   "outputs": [
    {
     "name": "stdout",
     "output_type": "stream",
     "text": [
      "13\n"
     ]
    },
    {
     "data": {
      "text/plain": [
       "True"
      ]
     },
     "execution_count": 24,
     "metadata": {},
     "output_type": "execute_result"
    }
   ],
   "source": [
    "\"\"\"Given a binary tree and an integer k, return whether there exists a root-to-leaf path that sums up to k.\n",
    "\n",
    "For example, given k = 18 and the following binary tree:\"\"\"\n",
    "def sumTillLeaf(s,sum):\n",
    "    if s is None:\n",
    "        return sum==0\n",
    "    data_curr = s.data\n",
    "    return sumTillLeaf(s.left,sum-data_curr) or sumTillLeaf(s.right,sum-data_curr)\n",
    "\n",
    "class Node:\n",
    "\n",
    "    def __init__(self, data):\n",
    "\n",
    "        self.left = None\n",
    "        self.right = None\n",
    "        self.data = data\n",
    "\n",
    "    def insert(self, data):\n",
    "# Compare the new value with the parent node\n",
    "        if self.data:\n",
    "            if data < self.data:\n",
    "                if self.left is None:\n",
    "                    self.left = Node(data)\n",
    "                else:\n",
    "                    self.left.insert(data)\n",
    "            elif data > self.data:\n",
    "                if self.right is None:\n",
    "                    self.right = Node(data)\n",
    "                else:\n",
    "                    self.right.insert(data)\n",
    "        else:\n",
    "            self.data = data\n",
    "\n",
    "\n",
    "        \n",
    "# Print the tree\n",
    "    def PrintTree(self):\n",
    "        if self.left:\n",
    "            self.left.PrintTree()\n",
    "        print( self.data),\n",
    "        if self.right:\n",
    "            self.right.PrintTree()\n",
    "\n",
    "# Use the insert method to add nodes\n",
    "root = Node(8)\n",
    "root.insert(4)\n",
    "root.insert(2)\n",
    "root.insert(6)\n",
    "root.insert(13)\n",
    "root.insert(19)\n",
    "print(root.right.daa)\n",
    "sumTillLeaf(root,21)"
   ]
  },
  {
   "cell_type": "code",
   "execution_count": 86,
   "metadata": {},
   "outputs": [
    {
     "name": "stdout",
     "output_type": "stream",
     "text": [
      "99\n",
      "[(), (1, 0, 0, 0, 1, 0, 0, 0, 0, 0, 0, 0, 0, 0, 0, 0, 0, 0, 0, 1, 0, 0, 0, 0, 0, 0), (1, 0, 0, 0, 1, 0, 0, 0, 0, 0, 0, 0, 0, 0, 0, 0, 0, 0, 0, 1, 0, 0, 0, 0, 0, 0), (1, 0, 0, 0, 0, 0, 0, 0, 0, 0, 0, 0, 0, 1, 0, 0, 0, 0, 0, 1, 0, 0, 0, 0, 0, 0), (1, 0, 0, 0, 1, 0, 0, 0, 0, 0, 0, 0, 0, 0, 0, 0, 0, 0, 0, 1, 0, 0, 0, 0, 0, 0), (1, 0, 0, 0, 0, 0, 0, 0, 0, 0, 0, 0, 0, 1, 0, 0, 0, 0, 0, 1, 0, 0, 0, 0, 0, 0), (1, 1, 0, 0, 0, 0, 0, 0, 0, 0, 0, 0, 0, 0, 0, 0, 0, 0, 0, 1, 0, 0, 0, 0, 0, 0)]\n",
      "bat\n",
      "bat\n",
      "bat\n",
      "bat\n",
      "bat\n",
      "bat\n"
     ]
    }
   ],
   "source": [
    "\"\"\"Given an array of strings, group anagrams together.\n",
    "    Input: [\"eat\", \"tea\", \"tan\", \"ate\", \"nat\", \"bat\"],\n",
    "Output:\n",
    "[\n",
    "  [\"ate\",\"eat\",\"tea\"],\n",
    "  [\"nat\",\"tan\"],\n",
    "  [\"bat\"]\n",
    "]\n",
    "\"\"\"\n",
    "def anagramGrouping(inputWords):\n",
    "    dict= {}\n",
    "    for s in inputWords:\n",
    "        countArray=[0]* 26\n",
    "        for ch in s:\n",
    "            countArray[ord(ch)-ord('a')]+=1\n",
    "            \n",
    "        dict[s]= tuple(countArray)\n",
    "    codeList=[tuple()]\n",
    "    \n",
    "    for k,v in dict.items():\n",
    "        codeList.append(tuple(v))\n",
    "        \n",
    "    print(codeList) \n",
    "    openSet= set()\n",
    "    for i,j in dict.items():\n",
    "            #dict.groupBy(dict[i])\n",
    "            print()\n",
    "            if j in openSet:\n",
    "                \n",
    "            else:\n",
    "                openSet.append(j)\n",
    "            \n",
    "\n",
    "    \n",
    "            \n",
    "    \n",
    "\n",
    "\n",
    "ip= [\"eat\", \"tea\", \"tan\", \"ate\", \"nat\", \"bat\"]\n",
    "print(ord('c'))\n",
    "anagramGrouping(ip)"
   ]
  },
  {
   "cell_type": "code",
   "execution_count": 88,
   "metadata": {},
   "outputs": [
    {
     "name": "stdout",
     "output_type": "stream",
     "text": [
      "99\n",
      "(1, 0, 0, 0, 1, 0, 0, 0, 0, 0, 0, 0, 0, 0, 0, 0, 0, 0, 0, 1, 0, 0, 0, 0, 0, 0)\n",
      "(1, 0, 0, 0, 1, 0, 0, 0, 0, 0, 0, 0, 0, 0, 0, 0, 0, 0, 0, 1, 0, 0, 0, 0, 0, 0)\n",
      "(1, 0, 0, 0, 0, 0, 0, 0, 0, 0, 0, 0, 0, 1, 0, 0, 0, 0, 0, 1, 0, 0, 0, 0, 0, 0)\n",
      "(1, 0, 0, 0, 1, 0, 0, 0, 0, 0, 0, 0, 0, 0, 0, 0, 0, 0, 0, 1, 0, 0, 0, 0, 0, 0)\n",
      "(1, 0, 0, 0, 0, 0, 0, 0, 0, 0, 0, 0, 0, 1, 0, 0, 0, 0, 0, 1, 0, 0, 0, 0, 0, 0)\n",
      "(1, 1, 0, 0, 0, 0, 0, 0, 0, 0, 0, 0, 0, 0, 0, 0, 0, 0, 0, 1, 0, 0, 0, 0, 0, 0)\n"
     ]
    },
    {
     "data": {
      "text/plain": [
       "dict_values([['eat', 'tea', 'ate'], ['tan', 'nat'], ['bat']])"
      ]
     },
     "execution_count": 88,
     "metadata": {},
     "output_type": "execute_result"
    }
   ],
   "source": [
    "import collections\n",
    "def groupAnagrams(strs):\n",
    "        ans = collections.defaultdict(list)\n",
    "        for s in strs:\n",
    "            count = [0] * 26\n",
    "            for c in s:\n",
    "                count[ord(c) - ord('a')] += 1\n",
    "            print(tuple(count))\n",
    "            ans[tuple(count)].append(s)\n",
    "        return ans.values()\n",
    "\n",
    "ip= [\"eat\", \"tea\", \"tan\", \"ate\", \"nat\", \"bat\"]\n",
    "print(ord('c'))\n",
    "\n",
    "\n",
    "groupAnagrams(ip)"
   ]
  },
  {
   "cell_type": "markdown",
   "metadata": {},
   "source": [
    "def isAnagram(str1,str2):\n",
    "    sorted1= sorted(str1)\n",
    "    sorted2= sorted(str2)\n",
    "    if(sorted1==sorted2):\n",
    "        return True\n",
    "    else:\n",
    "        return False\n",
    "    \n",
    "\n",
    "def allAnagrams(strs,key):\n",
    "    i=0\n",
    "    for s in strs:\n",
    "        parts=\"\"\n",
    "        counter=i\n",
    "        if i< (len(strs)-len(key))+1:\n",
    "            while counter<i+len(key):\n",
    "                parts+=strs[counter]\n",
    "                counter+=1\n",
    "        print(i,parts)\n",
    "        if isAnagram(parts,key):\n",
    "            #print(parts,key)\n",
    "            print(\"-->:\",i,\"Anagram:\",parts)\n",
    "        i+=1\n",
    "            \n",
    "    \n",
    "inputString = \"abab\"\n",
    "key = \"ab\"\n",
    "allAnagrams(inputString,key)\n"
   ]
  },
  {
   "cell_type": "code",
   "execution_count": 148,
   "metadata": {},
   "outputs": [
    {
     "data": {
      "text/plain": [
       "7"
      ]
     },
     "execution_count": 148,
     "metadata": {},
     "output_type": "execute_result"
    }
   ],
   "source": [
    "# \"\"\"Given a m x n grid filled with non-negative numbers, find a path from top left to bottom right which minimizes the sum of all numbers along its path.\n",
    "\n",
    "#Note: You can only move either down or right at any point in time.\"\"\"\n",
    "%config IPCompleter.greedy=True\n",
    "\n",
    "\n",
    "def findMinPath(inputArr, row, col):\n",
    "    if row==0 and col==0:\n",
    "        return inputArr[row][col]\n",
    "    if row < 0 or col < 0:\n",
    "        return 999\n",
    "    \n",
    "    return inputArr[row][col]+ min(findMinPath(inputArr,row-1,col),findMinPath(inputArr,row,col-1))\n",
    "                           \n",
    "            \n",
    "    \n",
    "    \n",
    "\n",
    "\n",
    "\n",
    "\n",
    "\n",
    "ip2D=[[1,3,1],[1,5,1],[4,2,1]]\n",
    "findMinPath(ip2D,2,2)\n"
   ]
  },
  {
   "cell_type": "code",
   "execution_count": 7,
   "metadata": {},
   "outputs": [
    {
     "name": "stdout",
     "output_type": "stream",
     "text": [
      "True\n"
     ]
    }
   ],
   "source": [
    "input= \"hello\"\n",
    "print(('h' in input and 'e' in input) or ('l' in input and 'o' in input) )"
   ]
  },
  {
   "cell_type": "code",
   "execution_count": 56,
   "metadata": {},
   "outputs": [
    {
     "name": "stdout",
     "output_type": "stream",
     "text": [
      "[1, 2, 3, 4, 5, 6, 7, 8, 9, 10, 11, 12, 13, 14, 15, 16, 17, 18, 19, 20, 21, 22, 23, 24, 25, 26, 27, 28, 29, 30, 31, 32, 33, 34, 35, 36, 37, 38, 39, 40, 41, 42, 43, 44, 45, 46, 47, 48, 49, 50, 51, 52]\n",
      "The position of the first card after 7 shuffles (Zero- index based): 21  or 1-Index based: 22\n",
      "The no of shuffles for 1st and last card to touch: 25\n",
      "The no of shuffles required for last card to become first and vice-versa: 26\n"
     ]
    }
   ],
   "source": [
    "# in shuffle 52 cards deck\n",
    "\n",
    "def split(deck, deckTop,deckBottom):\n",
    "    for i in range(0,int(len(deck)/2)):\n",
    "        deckTop.append(deck[i])\n",
    "\n",
    "    for i in range(int(len(deck)/2),len(deck)):\n",
    "        deckBottom.append(deck[i])\n",
    "    \n",
    "\n",
    "def inShuffle(deck,noOfShuffles):\n",
    "    deckTop=[]\n",
    "    deckBottom=[]\n",
    "    \n",
    "    # After the 7th Shuffle\n",
    "    if (noOfShuffles == 8):\n",
    "        print(\"The position of the first card after 7 shuffles (Zero-index based):\",deck.index(1),\" or 1-Index based:\",deck.index(1)+1)\n",
    "    \n",
    "    if(deck[51]==1):\n",
    "        # because just before complete reversal of the deck of cards the 1st and last cards touch\n",
    "        print(\"The no of shuffles for 1st and last card to touch:\",noOfShuffles-2)\n",
    "        print(\"The no of shuffles required for last card to become first and vice-versa:\",noOfShuffles-1)\n",
    "        return \n",
    "    \n",
    "    split(deck, deckTop,deckBottom)\n",
    "\n",
    "    ct=0\n",
    "    dk=[]\n",
    "    for i in range(0,len(deckBottom)):\n",
    "        dk.insert(ct,deckBottom[i])\n",
    "        ct+=2\n",
    "    ct1=1\n",
    "    for i in range(0,len(deckTop)):\n",
    "        dk.insert(ct1,deckTop[i])\n",
    "        ct1+=2\n",
    "    return inShuffle(dk,noOfShuffles+1)\n",
    "    \n",
    " \n",
    "\n",
    "deck=[]\n",
    "for i in range(1,53) :\n",
    "    deck.append(i)\n",
    "print(deck)\n",
    "\n",
    "inShuffle(deck,1)\n",
    "\n",
    "\n",
    "    \n",
    "\n"
   ]
  },
  {
   "cell_type": "code",
   "execution_count": 18,
   "metadata": {},
   "outputs": [
    {
     "name": "stdout",
     "output_type": "stream",
     "text": [
      "in asc\n",
      "in asc\n"
     ]
    },
    {
     "data": {
      "text/plain": [
       "True"
      ]
     },
     "execution_count": 18,
     "metadata": {},
     "output_type": "execute_result"
    }
   ],
   "source": [
    "def isMonotone(inp):\n",
    "    isAscending=False\n",
    "    isDescending=False\n",
    "    for i in range(len(inp)-2):\n",
    "        if  inp[i]< inp[i+1]:\n",
    "            isAscending=True\n",
    "        else:\n",
    "            isAscending=False\n",
    "            break\n",
    "        \n",
    "    for i in range(len(inp)-2):\n",
    "        if inp[i]> inp[i+1]:\n",
    "            isDescending=True\n",
    "        else:\n",
    "            isDescending=False\n",
    "            break\n",
    "\n",
    "    return isDescending or isAscending\n",
    "\n",
    "isMonotone([4,5,7,8])"
   ]
  },
  {
   "cell_type": "code",
   "execution_count": null,
   "metadata": {},
   "outputs": [],
   "source": [
    "def minOperations():\n",
    "    \n",
    "    "
   ]
  }
 ],
 "metadata": {
  "kernelspec": {
   "display_name": "Python 3",
   "language": "python",
   "name": "python3"
  },
  "language_info": {
   "codemirror_mode": {
    "name": "ipython",
    "version": 3
   },
   "file_extension": ".py",
   "mimetype": "text/x-python",
   "name": "python",
   "nbconvert_exporter": "python",
   "pygments_lexer": "ipython3",
   "version": "3.6.5"
  }
 },
 "nbformat": 4,
 "nbformat_minor": 2
}
